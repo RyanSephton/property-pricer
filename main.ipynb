{
 "cells": [
  {
   "cell_type": "code",
   "execution_count": 23,
   "id": "0d573dc1-4045-4b53-81df-44090e28705a",
   "metadata": {},
   "outputs": [],
   "source": [
    "import pandas as pd\n",
    "import os\n",
    "import json\n",
    "from property_pricer import calculate_property_prices"
   ]
  },
  {
   "cell_type": "code",
   "execution_count": 20,
   "id": "c9eebe8a-a30c-4f94-9fa1-6ad289d3c9b6",
   "metadata": {},
   "outputs": [],
   "source": [
    "with open('data/cleaned_data/clean_property_info.json') as f:\n",
    "    d = json.load(f)\n",
    "\n",
    "postcode = 'SK7'\n",
    "price_type = 'adjusted'\n",
    "property_type = 'T'\n",
    "confidence = 0.95\n",
    "\n",
    "lower_bound, upper_bound, lower_bound_delta, upper_bound_delta, conf = calculate_property_prices(data, postcode,price_type,property_type, confidence)"
   ]
  },
  {
   "cell_type": "code",
   "execution_count": 21,
   "id": "4ccf3159-a84f-4f48-b3d4-a2157aa08e92",
   "metadata": {},
   "outputs": [],
   "source": [
    "property_types = {\n",
    "    'T' : 'Terraced',\n",
    "    'S' : 'Semi-Detached',\n",
    "    'D' : 'Detached',\n",
    "    'F' : 'Flat',\n",
    "    'O' : 'Other'\n",
    "}\n",
    "\n",
    "print(f\"\"\"\n",
    "We Are {100*(1-(conf/2)):.2f}% Confident that {property_types[property_type]} \n",
    "Properties in {postcode} have an {price_type} Price Starting From \n",
    "[£{lower_bound - lower_bound_delta} - £{lower_bound + lower_bound_delta}] ranging up \n",
    "to [£{upper_bound - upper_bound_delta} - £{upper_bound + upper_bound_delta}]\n",
    "\"\"\")"
   ]
  }
 ],
 "metadata": {
  "kernelspec": {
   "display_name": "property_pricer",
   "language": "python",
   "name": "property_pricer"
  },
  "language_info": {
   "codemirror_mode": {
    "name": "ipython",
    "version": 3
   },
   "file_extension": ".py",
   "mimetype": "text/x-python",
   "name": "python",
   "nbconvert_exporter": "python",
   "pygments_lexer": "ipython3",
   "version": "3.8.8"
  }
 },
 "nbformat": 4,
 "nbformat_minor": 5
}
